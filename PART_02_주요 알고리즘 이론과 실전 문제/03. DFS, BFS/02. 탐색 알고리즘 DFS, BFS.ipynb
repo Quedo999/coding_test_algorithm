{
 "cells": [
  {
   "cell_type": "markdown",
   "metadata": {},
   "source": [
    "# DFS\n",
    "- Depth-First Search, 깊이 우선 탐색. 그래프에서 깊은 부분을 우선적으로 탐색하는 알고리즘\n",
    "- 그래프의 기본 구조\n",
    "    - 노드 : 정점이라고도 표현\n",
    "    - 간선\n",
    "- 그래프 탐색 : 하나의 노드를 시작으로 다수의 노드를 방문 하는 것.\n",
    "    - 이 때 두 노드가 인접해 있으면 '두 노드는 인접하다' 라고 표현\n",
    "- 그래프의 2가지 표현 방식\n",
    "    - 인접 행렬(Adjacency Matrix) : 2차원 배열로 그래프의 연결관계를 표현하는 방식\n",
    "    - 인접 리스트(Adjacency List) : 리스트로 그래프의 연결 관계를 표현하는 방식"
   ]
  },
  {
   "cell_type": "markdown",
   "metadata": {},
   "source": [
    "## 인접 행렬 방식\n",
    "- 2차원 배열에 각 노드가 연결된 형태를 기록하는 방식.\n",
    "- 파이썬에서는 2차원 리스트로 구현할 수 있다.\n",
    "- 연결 되지 않은 노드끼리는 무한의 비용이라고 작성.\n",
    "- 실제 코드에서는 논리적으로 정답이 될 수 없는 큰 값 중에서 999999999, 987654321 등의 값으로 초기화 하는 경우가 많음.\n",
    "- 그래프를 인접 행렬 방식으로 처리할 때는 다음 예제와 같이 초기화"
   ]
  },
  {
   "cell_type": "code",
   "execution_count": 1,
   "metadata": {},
   "outputs": [
    {
     "name": "stdout",
     "output_type": "stream",
     "text": [
      "[[0, 7, 5], [7, 0, 999999999], [5, 999999999, 0]]\n"
     ]
    }
   ],
   "source": [
    "# 인접 행렬 방식 예제\n",
    "INF = 999999999  # 무한 비용 선언\n",
    "\n",
    "# 2차원 리스트를 이용해 인접 행렬 표현\n",
    "graph = [\n",
    "    [0, 7, 5],\n",
    "    [7, 0, INF],\n",
    "    [5, INF, 0]\n",
    "]\n",
    "\n",
    "print(graph)"
   ]
  },
  {
   "cell_type": "code",
   "execution_count": null,
   "metadata": {},
   "outputs": [],
   "source": []
  },
  {
   "cell_type": "markdown",
   "metadata": {},
   "source": [
    "## 인접 리스트 방식\n",
    "- 모든 노드에 연결된 노드에 대한 정보를 차례대로 연결해 저장\n",
    "- 연결 리스트 라는 자료구조를 이용해 구현\n",
    "- 파이썬에서는 기본 자료형인 리스트 자료형이 append()와 메소드를 제공.\n",
    "- 때문에 파이선으로 인접 리스트를 이용해 그래프를 표현하고자 할 때에도 단순히 2차원 리스트를 이용하면 됨.\n",
    "- 인접 리스트 방식으로 처리할 때 다음 예제와 같이 초기화"
   ]
  },
  {
   "cell_type": "code",
   "execution_count": 3,
   "metadata": {},
   "outputs": [
    {
     "name": "stdout",
     "output_type": "stream",
     "text": [
      "[[(1, 7), (2, 5)], [(0, 7)], [(0, 5)]]\n"
     ]
    }
   ],
   "source": [
    "# 인접 리스트 방식 예제\n",
    "# 행(Raw)이 3개인 2차원 리스트로 인접 리스트 표현\n",
    "graph = [[] for _ in range(3)]\n",
    "\n",
    "# 노드 0에 연결된 노드 정보 저장(노드, 거리)\n",
    "graph[0].append((1, 7))\n",
    "graph[0].append((2, 5))\n",
    "\n",
    "# 노드 1에 연결된 노드 정보 저장(노드, 거리)\n",
    "graph[1].append((0, 7))\n",
    "\n",
    "# 노드 2에 연결된 노드 정보 저장(노드, 거리)\n",
    "graph[2].append((0, 5))\n",
    "\n",
    "print(graph)"
   ]
  },
  {
   "cell_type": "code",
   "execution_count": null,
   "metadata": {},
   "outputs": [],
   "source": []
  },
  {
   "cell_type": "markdown",
   "metadata": {},
   "source": [
    "## 위 두 방식의 차이\n",
    "- 메모리 측면\n",
    "    - 인접 행렬 방식은 모든 관계를 저장하므로 노드 개수가 많을수록 메모리가 불필요하게 낭비됨.\n",
    "    - 반면 인접 리스트 방식은 연결된 정보만을 저장하기에 메모리를 효율적으로 사용.\n",
    "- 속도 측면\n",
    "    - 위 메모리 측면과 같은 속성 때문에 인접 리스트 방식은 인접 행렬 방식에 비해 특정한 두 노드가 연결돼 있는지에 대한 정보를 얻는 속도가 느림.\n",
    "    - 인접 리스트 방식에서는 연결된 데이터를 하나 씩 확인해야 하기 때문\n",
    "- 예시\n",
    "    - 한 그래프에서 노드 1과 노드 7이 연결돼 있는 상황을 생각.\n",
    "    - 인접 행렬 방식에서는 graph[1][7]만 확인하면 됨.\n",
    "    - 인접 리스트 방식에서는 노드 1에 대한 인접 리스트를 앞에서 부터 차례대로 확인해야 함.\n",
    "- 그러므로 특정한 노드와 연결된 모든 인접 노드를 순회해야 하는 경우, 인접 리스트 방식이 인접 행렬 방식에 비해 메모리 공간의 낭비가 적음."
   ]
  },
  {
   "cell_type": "markdown",
   "metadata": {},
   "source": [
    "## DFS 작동 방식\n",
    "- 깊이 우선 탐색 알고리즘\n",
    "- 특정한 경로로 탐색하다가 특정한 상황에서 최대한 깊숙이 들어가서 노드를 방문한 후 다시 돌아가 다른 경로로 탐색하는 알고리즘\n",
    "- 스택 자료구조를 이용 구체적인 동작 과정은 다음과 같음\n",
    "    1. 탐색 시작 노드를 스택에 삽입하고 방문 처리를 함\n",
    "    2. 스택의 최상단 노드에 방문하지 않은 인접 노드가 있으면 그 인접 노드를 스택에 넣고 방문 처리를 함. 방문하지 않은 인접 노드가 없으면 스택에서 최상단 노드를 꺼냄\n",
    "    3. 2번의 과정을 더 이상 수행할 수 없을 때까지 반복\n",
    "    \n",
    "    *. 방문처리는 스택에 한 번 삽입돼 처리된 노드가 다시 삽입되지 않게 체크하는 것. 방문 처리를 함으로 각 노드를 한 번씩만 처리할 수 있음\n",
    "- DFS는 스택을 이용하는 알고리즘 이기에 실제 구현은 재귀 함수를 이용했을 때 매우 간결하게 구현할 수 있음."
   ]
  },
  {
   "cell_type": "code",
   "execution_count": 7,
   "metadata": {},
   "outputs": [
    {
     "name": "stdout",
     "output_type": "stream",
     "text": [
      "1 2 7 6 8 3 4 5 "
     ]
    }
   ],
   "source": [
    "# DFS 예제\n",
    "\n",
    "# DFS 메서드 정의\n",
    "def dfs(graph, v, visited):\n",
    "    # 현재 노드를 방문 처리\n",
    "    visited[v] = True\n",
    "    print(v, end=' ')\n",
    "    # 현재 노드와 연결된 다른 노드를 재귀적으로 방문\n",
    "    for i in graph[v]:\n",
    "        if not visited[i]:\n",
    "            dfs(graph, i, visited)\n",
    "\n",
    "# 각 노드가 연결된 정보를 리스트 자료형으로 표현 (2차원 리스트)\n",
    "graph = [\n",
    "    [],\n",
    "    [2, 3, 8],\n",
    "    [1, 7], \n",
    "    [1, 4, 5], \n",
    "    [3, 5], \n",
    "    [3, 4], \n",
    "    [7], \n",
    "    [2, 6, 8], \n",
    "    [1, 7]\n",
    "]\n",
    "\n",
    "# 각 노드가 방문된 정보를 리스트 자료형으로 표현(1차원 리스트)\n",
    "visited = [False] * 9\n",
    "\n",
    "# 정의된 DFS 함수 호출\n",
    "dfs(graph, 1, visited)"
   ]
  },
  {
   "cell_type": "code",
   "execution_count": null,
   "metadata": {},
   "outputs": [],
   "source": []
  },
  {
   "cell_type": "markdown",
   "metadata": {},
   "source": [
    "# BFS\n",
    "- Breadth First Search : 너비 우선 탑색\n",
    "- 가까운 노드부터 탐색하는 알고리즘\n",
    "- DFS는 최대한 멀리있는 노드를 우선으로 탑색하는 방식으로 동작하지만 BFS는 그 반대\n",
    "- BFS 구현에는 선입선출 방식의 자료구조인 큐를 이용하는 것이 정석\n",
    "- 인접한 노드를 반복적으로 큐에 넣도록 알고리즘을 작성하면 자연스럽게 먼저 들어온 것이 먼저 나가게 되어, 가까운 노드부터 탐색을 진행.\n",
    "- BFS의 동작 방식\n",
    "    1. 탐색 시작 노드를 큐에 삽입하고 방문처리\n",
    "    2. 큐에서 노드를 꺼내 해당 노드의 인접 노드 중에서 방문하지 않은 노드를 모두 큐에 삽입하고 방문처리\n",
    "    3. 2번의 과정을 더 이상 수행할 수 없을 떄까지 반복\n",
    "- BFS는 큐 자료구조에 기초한다는 점에서 구현이 간단함.\n",
    "- 실제로 구현에 있어 deque 라이브러리를 사용하는 것이 좋음.\n",
    "- 일반적인 경우 실제 수행시간은 DFS보다 좋은 편\n"
   ]
  },
  {
   "cell_type": "code",
   "execution_count": 8,
   "metadata": {},
   "outputs": [
    {
     "name": "stdout",
     "output_type": "stream",
     "text": [
      "1 2 3 8 7 4 5 6 "
     ]
    }
   ],
   "source": [
    "# BFS 예제\n",
    "from collections import deque\n",
    "\n",
    "# BFS 메서드 정의\n",
    "def bfs(graph, start, visited):\n",
    "    # 큐(Queue) 구현을 위해 deque 라이브러리 사용\n",
    "    queue = deque([start])\n",
    "    # 현재 노드를 방문 처리\n",
    "    visited[start] = True\n",
    "    # 큐가 빌 때까지 반복\n",
    "    while queue:\n",
    "        # 큐에서 하나의 원소를 뽑아 출력\n",
    "        v = queue.popleft()\n",
    "        print(v, end=' ')\n",
    "        # 해당 원소와 연결된, 아직 방문하지 않은 원소들을 큐에 삽입.\n",
    "        for i in graph[v]:\n",
    "            if not visited[i]:\n",
    "                queue.append(i)\n",
    "                visited[i] = True\n",
    "\n",
    "# 각 노드가 연결된 정보를 리스트 자료형으로 표현 (2차원 리스트)\n",
    "graph = [\n",
    "    [],\n",
    "    [2, 3, 8],\n",
    "    [1, 7], \n",
    "    [1, 4, 5], \n",
    "    [3, 5], \n",
    "    [3, 4], \n",
    "    [7], \n",
    "    [2, 6, 8], \n",
    "    [1, 7]\n",
    "]\n",
    "\n",
    "# 각 노드가 방문된 정보를 리스트 자료형으로 표현(1차원 리스트)\n",
    "visited = [False] * 9\n",
    "\n",
    "# 정의된 DFS 함수 호출\n",
    "bfs(graph, 1, visited)"
   ]
  },
  {
   "cell_type": "markdown",
   "metadata": {},
   "source": [
    "- DFS와 BFS의 구현에 대해 알아 봄.\n",
    "- 간단히 정리한 표\n",
    "\n",
    "    ||DFS|BFS|\n",
    "    |--|--|--|\n",
    "    |동작원리|스택|큐|\n",
    "    |구현방법|재귀 함수 이용|큐 자료구조 이용| \n",
    "- 더 다양한 방식으로 구현하 수 있지만 위의 예제들이 가장 간결한 방식\n",
    "- 1차원 배열이나 2차원 배열또한 그래프 형태로 생각하면 수월하게 문제를 해결할 수 있다.\n",
    "- 특히 DFS나 BFS 문제 유형이 그러하다."
   ]
  }
 ],
 "metadata": {
  "interpreter": {
   "hash": "9e5ba8102417ed24000ae30d0ee823b0df91ab90972766c536e2f5d51ee26514"
  },
  "kernelspec": {
   "display_name": "Python 3.9.7 64-bit ('study': conda)",
   "language": "python",
   "name": "python3"
  },
  "language_info": {
   "codemirror_mode": {
    "name": "ipython",
    "version": 3
   },
   "file_extension": ".py",
   "mimetype": "text/x-python",
   "name": "python",
   "nbconvert_exporter": "python",
   "pygments_lexer": "ipython3",
   "version": "3.10.2"
  },
  "orig_nbformat": 4
 },
 "nbformat": 4,
 "nbformat_minor": 2
}
